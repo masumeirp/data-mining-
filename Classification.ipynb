{
  "nbformat": 4,
  "nbformat_minor": 0,
  "metadata": {
    "colab": {
      "provenance": []
    },
    "kernelspec": {
      "name": "python3",
      "display_name": "Python 3"
    },
    "language_info": {
      "name": "python"
    }
  },
  "cells": [
    {
      "cell_type": "code",
      "source": [
        "import pandas as pd\n",
        "from sklearn.model_selection import train_test_split\n",
        "from sklearn.metrics import confusion_matrix, ConfusionMatrixDisplay, classification_report\n",
        "from sklearn.tree import DecisionTreeClassifier\n",
        "from sklearn.svm import SVC\n",
        "import matplotlib.pyplot as plt\n",
        "from imblearn.over_sampling import SMOTE\n",
        "from sklearn.preprocessing import StandardScaler"
      ],
      "metadata": {
        "id": "b75a5eIx4w3D"
      },
      "execution_count": 2,
      "outputs": []
    },
    {
      "cell_type": "code",
      "source": [
        "df = pd.read_csv('/content/Preprocessed_data.csv')\n",
        "\n",
        "df.head()"
      ],
      "metadata": {
        "id": "M-DvB-Az4DOT",
        "colab": {
          "base_uri": "https://localhost:8080/",
          "height": 226
        },
        "outputId": "328ac565-63a8-43b8-b1b2-299d6ec5d85e"
      },
      "execution_count": 3,
      "outputs": [
        {
          "output_type": "execute_result",
          "data": {
            "text/plain": [
              "   gender   age  hypertension  heart_disease  smoking_history         bmi  \\\n",
              "0       3  78.0             0              1                0  101.665015   \n",
              "1       0  75.0             1              1                3   23.212811   \n",
              "2       1  16.0             0              0                0   28.156373   \n",
              "3       1  46.0             0              0                0   16.546449   \n",
              "4       1  82.0             0              0                5   25.621355   \n",
              "\n",
              "   HbA1c_level  blood_glucose_level  diabetes  \n",
              "0          6.6                  140         0  \n",
              "1          4.8                  155         0  \n",
              "2          6.6                   85         0  \n",
              "3          6.5                  200         1  \n",
              "4          5.7                   85         0  "
            ],
            "text/html": [
              "\n",
              "  <div id=\"df-20de073b-24a5-4eee-9838-c12f152f6c35\" class=\"colab-df-container\">\n",
              "    <div>\n",
              "<style scoped>\n",
              "    .dataframe tbody tr th:only-of-type {\n",
              "        vertical-align: middle;\n",
              "    }\n",
              "\n",
              "    .dataframe tbody tr th {\n",
              "        vertical-align: top;\n",
              "    }\n",
              "\n",
              "    .dataframe thead th {\n",
              "        text-align: right;\n",
              "    }\n",
              "</style>\n",
              "<table border=\"1\" class=\"dataframe\">\n",
              "  <thead>\n",
              "    <tr style=\"text-align: right;\">\n",
              "      <th></th>\n",
              "      <th>gender</th>\n",
              "      <th>age</th>\n",
              "      <th>hypertension</th>\n",
              "      <th>heart_disease</th>\n",
              "      <th>smoking_history</th>\n",
              "      <th>bmi</th>\n",
              "      <th>HbA1c_level</th>\n",
              "      <th>blood_glucose_level</th>\n",
              "      <th>diabetes</th>\n",
              "    </tr>\n",
              "  </thead>\n",
              "  <tbody>\n",
              "    <tr>\n",
              "      <th>0</th>\n",
              "      <td>3</td>\n",
              "      <td>78.0</td>\n",
              "      <td>0</td>\n",
              "      <td>1</td>\n",
              "      <td>0</td>\n",
              "      <td>101.665015</td>\n",
              "      <td>6.6</td>\n",
              "      <td>140</td>\n",
              "      <td>0</td>\n",
              "    </tr>\n",
              "    <tr>\n",
              "      <th>1</th>\n",
              "      <td>0</td>\n",
              "      <td>75.0</td>\n",
              "      <td>1</td>\n",
              "      <td>1</td>\n",
              "      <td>3</td>\n",
              "      <td>23.212811</td>\n",
              "      <td>4.8</td>\n",
              "      <td>155</td>\n",
              "      <td>0</td>\n",
              "    </tr>\n",
              "    <tr>\n",
              "      <th>2</th>\n",
              "      <td>1</td>\n",
              "      <td>16.0</td>\n",
              "      <td>0</td>\n",
              "      <td>0</td>\n",
              "      <td>0</td>\n",
              "      <td>28.156373</td>\n",
              "      <td>6.6</td>\n",
              "      <td>85</td>\n",
              "      <td>0</td>\n",
              "    </tr>\n",
              "    <tr>\n",
              "      <th>3</th>\n",
              "      <td>1</td>\n",
              "      <td>46.0</td>\n",
              "      <td>0</td>\n",
              "      <td>0</td>\n",
              "      <td>0</td>\n",
              "      <td>16.546449</td>\n",
              "      <td>6.5</td>\n",
              "      <td>200</td>\n",
              "      <td>1</td>\n",
              "    </tr>\n",
              "    <tr>\n",
              "      <th>4</th>\n",
              "      <td>1</td>\n",
              "      <td>82.0</td>\n",
              "      <td>0</td>\n",
              "      <td>0</td>\n",
              "      <td>5</td>\n",
              "      <td>25.621355</td>\n",
              "      <td>5.7</td>\n",
              "      <td>85</td>\n",
              "      <td>0</td>\n",
              "    </tr>\n",
              "  </tbody>\n",
              "</table>\n",
              "</div>\n",
              "    <div class=\"colab-df-buttons\">\n",
              "\n",
              "  <div class=\"colab-df-container\">\n",
              "    <button class=\"colab-df-convert\" onclick=\"convertToInteractive('df-20de073b-24a5-4eee-9838-c12f152f6c35')\"\n",
              "            title=\"Convert this dataframe to an interactive table.\"\n",
              "            style=\"display:none;\">\n",
              "\n",
              "  <svg xmlns=\"http://www.w3.org/2000/svg\" height=\"24px\" viewBox=\"0 -960 960 960\">\n",
              "    <path d=\"M120-120v-720h720v720H120Zm60-500h600v-160H180v160Zm220 220h160v-160H400v160Zm0 220h160v-160H400v160ZM180-400h160v-160H180v160Zm440 0h160v-160H620v160ZM180-180h160v-160H180v160Zm440 0h160v-160H620v160Z\"/>\n",
              "  </svg>\n",
              "    </button>\n",
              "\n",
              "  <style>\n",
              "    .colab-df-container {\n",
              "      display:flex;\n",
              "      gap: 12px;\n",
              "    }\n",
              "\n",
              "    .colab-df-convert {\n",
              "      background-color: #E8F0FE;\n",
              "      border: none;\n",
              "      border-radius: 50%;\n",
              "      cursor: pointer;\n",
              "      display: none;\n",
              "      fill: #1967D2;\n",
              "      height: 32px;\n",
              "      padding: 0 0 0 0;\n",
              "      width: 32px;\n",
              "    }\n",
              "\n",
              "    .colab-df-convert:hover {\n",
              "      background-color: #E2EBFA;\n",
              "      box-shadow: 0px 1px 2px rgba(60, 64, 67, 0.3), 0px 1px 3px 1px rgba(60, 64, 67, 0.15);\n",
              "      fill: #174EA6;\n",
              "    }\n",
              "\n",
              "    .colab-df-buttons div {\n",
              "      margin-bottom: 4px;\n",
              "    }\n",
              "\n",
              "    [theme=dark] .colab-df-convert {\n",
              "      background-color: #3B4455;\n",
              "      fill: #D2E3FC;\n",
              "    }\n",
              "\n",
              "    [theme=dark] .colab-df-convert:hover {\n",
              "      background-color: #434B5C;\n",
              "      box-shadow: 0px 1px 3px 1px rgba(0, 0, 0, 0.15);\n",
              "      filter: drop-shadow(0px 1px 2px rgba(0, 0, 0, 0.3));\n",
              "      fill: #FFFFFF;\n",
              "    }\n",
              "  </style>\n",
              "\n",
              "    <script>\n",
              "      const buttonEl =\n",
              "        document.querySelector('#df-20de073b-24a5-4eee-9838-c12f152f6c35 button.colab-df-convert');\n",
              "      buttonEl.style.display =\n",
              "        google.colab.kernel.accessAllowed ? 'block' : 'none';\n",
              "\n",
              "      async function convertToInteractive(key) {\n",
              "        const element = document.querySelector('#df-20de073b-24a5-4eee-9838-c12f152f6c35');\n",
              "        const dataTable =\n",
              "          await google.colab.kernel.invokeFunction('convertToInteractive',\n",
              "                                                    [key], {});\n",
              "        if (!dataTable) return;\n",
              "\n",
              "        const docLinkHtml = 'Like what you see? Visit the ' +\n",
              "          '<a target=\"_blank\" href=https://colab.research.google.com/notebooks/data_table.ipynb>data table notebook</a>'\n",
              "          + ' to learn more about interactive tables.';\n",
              "        element.innerHTML = '';\n",
              "        dataTable['output_type'] = 'display_data';\n",
              "        await google.colab.output.renderOutput(dataTable, element);\n",
              "        const docLink = document.createElement('div');\n",
              "        docLink.innerHTML = docLinkHtml;\n",
              "        element.appendChild(docLink);\n",
              "      }\n",
              "    </script>\n",
              "  </div>\n",
              "\n",
              "\n",
              "<div id=\"df-97f24d27-9b0f-47d6-b8f8-abdcf01b2da2\">\n",
              "  <button class=\"colab-df-quickchart\" onclick=\"quickchart('df-97f24d27-9b0f-47d6-b8f8-abdcf01b2da2')\"\n",
              "            title=\"Suggest charts\"\n",
              "            style=\"display:none;\">\n",
              "\n",
              "<svg xmlns=\"http://www.w3.org/2000/svg\" height=\"24px\"viewBox=\"0 0 24 24\"\n",
              "     width=\"24px\">\n",
              "    <g>\n",
              "        <path d=\"M19 3H5c-1.1 0-2 .9-2 2v14c0 1.1.9 2 2 2h14c1.1 0 2-.9 2-2V5c0-1.1-.9-2-2-2zM9 17H7v-7h2v7zm4 0h-2V7h2v10zm4 0h-2v-4h2v4z\"/>\n",
              "    </g>\n",
              "</svg>\n",
              "  </button>\n",
              "\n",
              "<style>\n",
              "  .colab-df-quickchart {\n",
              "      --bg-color: #E8F0FE;\n",
              "      --fill-color: #1967D2;\n",
              "      --hover-bg-color: #E2EBFA;\n",
              "      --hover-fill-color: #174EA6;\n",
              "      --disabled-fill-color: #AAA;\n",
              "      --disabled-bg-color: #DDD;\n",
              "  }\n",
              "\n",
              "  [theme=dark] .colab-df-quickchart {\n",
              "      --bg-color: #3B4455;\n",
              "      --fill-color: #D2E3FC;\n",
              "      --hover-bg-color: #434B5C;\n",
              "      --hover-fill-color: #FFFFFF;\n",
              "      --disabled-bg-color: #3B4455;\n",
              "      --disabled-fill-color: #666;\n",
              "  }\n",
              "\n",
              "  .colab-df-quickchart {\n",
              "    background-color: var(--bg-color);\n",
              "    border: none;\n",
              "    border-radius: 50%;\n",
              "    cursor: pointer;\n",
              "    display: none;\n",
              "    fill: var(--fill-color);\n",
              "    height: 32px;\n",
              "    padding: 0;\n",
              "    width: 32px;\n",
              "  }\n",
              "\n",
              "  .colab-df-quickchart:hover {\n",
              "    background-color: var(--hover-bg-color);\n",
              "    box-shadow: 0 1px 2px rgba(60, 64, 67, 0.3), 0 1px 3px 1px rgba(60, 64, 67, 0.15);\n",
              "    fill: var(--button-hover-fill-color);\n",
              "  }\n",
              "\n",
              "  .colab-df-quickchart-complete:disabled,\n",
              "  .colab-df-quickchart-complete:disabled:hover {\n",
              "    background-color: var(--disabled-bg-color);\n",
              "    fill: var(--disabled-fill-color);\n",
              "    box-shadow: none;\n",
              "  }\n",
              "\n",
              "  .colab-df-spinner {\n",
              "    border: 2px solid var(--fill-color);\n",
              "    border-color: transparent;\n",
              "    border-bottom-color: var(--fill-color);\n",
              "    animation:\n",
              "      spin 1s steps(1) infinite;\n",
              "  }\n",
              "\n",
              "  @keyframes spin {\n",
              "    0% {\n",
              "      border-color: transparent;\n",
              "      border-bottom-color: var(--fill-color);\n",
              "      border-left-color: var(--fill-color);\n",
              "    }\n",
              "    20% {\n",
              "      border-color: transparent;\n",
              "      border-left-color: var(--fill-color);\n",
              "      border-top-color: var(--fill-color);\n",
              "    }\n",
              "    30% {\n",
              "      border-color: transparent;\n",
              "      border-left-color: var(--fill-color);\n",
              "      border-top-color: var(--fill-color);\n",
              "      border-right-color: var(--fill-color);\n",
              "    }\n",
              "    40% {\n",
              "      border-color: transparent;\n",
              "      border-right-color: var(--fill-color);\n",
              "      border-top-color: var(--fill-color);\n",
              "    }\n",
              "    60% {\n",
              "      border-color: transparent;\n",
              "      border-right-color: var(--fill-color);\n",
              "    }\n",
              "    80% {\n",
              "      border-color: transparent;\n",
              "      border-right-color: var(--fill-color);\n",
              "      border-bottom-color: var(--fill-color);\n",
              "    }\n",
              "    90% {\n",
              "      border-color: transparent;\n",
              "      border-bottom-color: var(--fill-color);\n",
              "    }\n",
              "  }\n",
              "</style>\n",
              "\n",
              "  <script>\n",
              "    async function quickchart(key) {\n",
              "      const quickchartButtonEl =\n",
              "        document.querySelector('#' + key + ' button');\n",
              "      quickchartButtonEl.disabled = true;  // To prevent multiple clicks.\n",
              "      quickchartButtonEl.classList.add('colab-df-spinner');\n",
              "      try {\n",
              "        const charts = await google.colab.kernel.invokeFunction(\n",
              "            'suggestCharts', [key], {});\n",
              "      } catch (error) {\n",
              "        console.error('Error during call to suggestCharts:', error);\n",
              "      }\n",
              "      quickchartButtonEl.classList.remove('colab-df-spinner');\n",
              "      quickchartButtonEl.classList.add('colab-df-quickchart-complete');\n",
              "    }\n",
              "    (() => {\n",
              "      let quickchartButtonEl =\n",
              "        document.querySelector('#df-97f24d27-9b0f-47d6-b8f8-abdcf01b2da2 button');\n",
              "      quickchartButtonEl.style.display =\n",
              "        google.colab.kernel.accessAllowed ? 'block' : 'none';\n",
              "    })();\n",
              "  </script>\n",
              "</div>\n",
              "    </div>\n",
              "  </div>\n"
            ],
            "application/vnd.google.colaboratory.intrinsic+json": {
              "type": "dataframe",
              "variable_name": "df",
              "summary": "{\n  \"name\": \"df\",\n  \"rows\": 97503,\n  \"fields\": [\n    {\n      \"column\": \"gender\",\n      \"properties\": {\n        \"dtype\": \"number\",\n        \"std\": 0,\n        \"min\": 0,\n        \"max\": 3,\n        \"num_unique_values\": 4,\n        \"samples\": [\n          0,\n          2,\n          3\n        ],\n        \"semantic_type\": \"\",\n        \"description\": \"\"\n      }\n    },\n    {\n      \"column\": \"age\",\n      \"properties\": {\n        \"dtype\": \"number\",\n        \"std\": 21.965518664679916,\n        \"min\": 0.0,\n        \"max\": 84.0,\n        \"num_unique_values\": 158,\n        \"samples\": [\n          2.4,\n          4.0,\n          3.3200000000000003\n        ],\n        \"semantic_type\": \"\",\n        \"description\": \"\"\n      }\n    },\n    {\n      \"column\": \"hypertension\",\n      \"properties\": {\n        \"dtype\": \"number\",\n        \"std\": 0,\n        \"min\": 0,\n        \"max\": 1,\n        \"num_unique_values\": 2,\n        \"samples\": [\n          1,\n          0\n        ],\n        \"semantic_type\": \"\",\n        \"description\": \"\"\n      }\n    },\n    {\n      \"column\": \"heart_disease\",\n      \"properties\": {\n        \"dtype\": \"number\",\n        \"std\": 0,\n        \"min\": 0,\n        \"max\": 1,\n        \"num_unique_values\": 2,\n        \"samples\": [\n          0,\n          1\n        ],\n        \"semantic_type\": \"\",\n        \"description\": \"\"\n      }\n    },\n    {\n      \"column\": \"smoking_history\",\n      \"properties\": {\n        \"dtype\": \"number\",\n        \"std\": 2,\n        \"min\": 0,\n        \"max\": 5,\n        \"num_unique_values\": 6,\n        \"samples\": [\n          0,\n          3\n        ],\n        \"semantic_type\": \"\",\n        \"description\": \"\"\n      }\n    },\n    {\n      \"column\": \"bmi\",\n      \"properties\": {\n        \"dtype\": \"number\",\n        \"std\": 6.870830374455729,\n        \"min\": 3.629571534555387,\n        \"max\": 101.66501529776784,\n        \"num_unique_values\": 97503,\n        \"samples\": [\n          26.60180567289098,\n          32.74031325424641\n        ],\n        \"semantic_type\": \"\",\n        \"description\": \"\"\n      }\n    },\n    {\n      \"column\": \"HbA1c_level\",\n      \"properties\": {\n        \"dtype\": \"number\",\n        \"std\": 1.000002119195764,\n        \"min\": 3.5,\n        \"max\": 8.2,\n        \"num_unique_values\": 16,\n        \"samples\": [\n          6.6,\n          4.8\n        ],\n        \"semantic_type\": \"\",\n        \"description\": \"\"\n      }\n    },\n    {\n      \"column\": \"blood_glucose_level\",\n      \"properties\": {\n        \"dtype\": \"number\",\n        \"std\": 36,\n        \"min\": 80,\n        \"max\": 260,\n        \"num_unique_values\": 16,\n        \"samples\": [\n          140,\n          155\n        ],\n        \"semantic_type\": \"\",\n        \"description\": \"\"\n      }\n    },\n    {\n      \"column\": \"diabetes\",\n      \"properties\": {\n        \"dtype\": \"number\",\n        \"std\": 0,\n        \"min\": 0,\n        \"max\": 1,\n        \"num_unique_values\": 2,\n        \"samples\": [\n          1,\n          0\n        ],\n        \"semantic_type\": \"\",\n        \"description\": \"\"\n      }\n    }\n  ]\n}"
            }
          },
          "metadata": {},
          "execution_count": 3
        }
      ]
    },
    {
      "cell_type": "markdown",
      "source": [
        "**Model Training**\n",
        "- Create Dataset"
      ],
      "metadata": {
        "id": "bD2NhPpvVLFw"
      }
    },
    {
      "cell_type": "code",
      "source": [
        "X = df.drop(['diabetes'], axis=1)\n",
        "y = df['diabetes']\n",
        "X, y"
      ],
      "metadata": {
        "id": "tCU-pUtT4ITH",
        "colab": {
          "base_uri": "https://localhost:8080/"
        },
        "outputId": "372e17e3-c75e-4979-8cf1-f59fe31a40f8"
      },
      "execution_count": 4,
      "outputs": [
        {
          "output_type": "execute_result",
          "data": {
            "text/plain": [
              "(       gender        age  hypertension  heart_disease  smoking_history  \\\n",
              " 0           3  78.000000             0              1                0   \n",
              " 1           0  75.000000             1              1                3   \n",
              " 2           1  16.000000             0              0                0   \n",
              " 3           1  46.000000             0              0                0   \n",
              " 4           1  82.000000             0              0                5   \n",
              " ...       ...        ...           ...            ...              ...   \n",
              " 97498       1  81.000000             0              0                5   \n",
              " 97499       1  41.598755             0              0                5   \n",
              " 97500       0  70.000000             0              0                2   \n",
              " 97501       1  23.000000             0              0                0   \n",
              " 97502       1  54.000000             0              0                3   \n",
              " \n",
              "               bmi  HbA1c_level  blood_glucose_level  \n",
              " 0      101.665015          6.6                  140  \n",
              " 1       23.212811          4.8                  155  \n",
              " 2       28.156373          6.6                   85  \n",
              " 3       16.546449          6.5                  200  \n",
              " 4       25.621355          5.7                   85  \n",
              " ...           ...          ...                  ...  \n",
              " 97498   27.505580          6.2                   90  \n",
              " 97499   18.624383          6.5                  100  \n",
              " 97500   27.804892          5.7                  155  \n",
              " 97501   35.913652          4.0                  100  \n",
              " 97502   21.607675          6.6                   90  \n",
              " \n",
              " [97503 rows x 8 columns],\n",
              " 0        0\n",
              " 1        0\n",
              " 2        0\n",
              " 3        1\n",
              " 4        0\n",
              "         ..\n",
              " 97498    0\n",
              " 97499    0\n",
              " 97500    0\n",
              " 97501    0\n",
              " 97502    0\n",
              " Name: diabetes, Length: 97503, dtype: int64)"
            ]
          },
          "metadata": {},
          "execution_count": 4
        }
      ]
    },
    {
      "cell_type": "code",
      "source": [
        "X_train, X_test, y_train, y_test = train_test_split(X, y, test_size=0.3, random_state = 42, shuffle=True)"
      ],
      "metadata": {
        "id": "UrjNBOiG447s"
      },
      "execution_count": 5,
      "outputs": []
    },
    {
      "cell_type": "code",
      "source": [
        "print(f'Length Train Data={len(X_train)}\\nLength Test Data={len(X_test)}')"
      ],
      "metadata": {
        "id": "POa6ESSU5MZB",
        "colab": {
          "base_uri": "https://localhost:8080/"
        },
        "outputId": "d481cd1b-b30e-47b7-fb90-42e309fce11d"
      },
      "execution_count": 6,
      "outputs": [
        {
          "output_type": "stream",
          "name": "stdout",
          "text": [
            "Length Train Data=68252\n",
            "Length Test Data=29251\n"
          ]
        }
      ]
    },
    {
      "cell_type": "markdown",
      "source": [
        "**Model Training**\n",
        "\n",
        "1- Decision Tree Classifier"
      ],
      "metadata": {
        "id": "cLNNcZ9A5XOb"
      }
    },
    {
      "cell_type": "code",
      "source": [
        "target_names = ['Non-Diabetes', 'Diabetes']"
      ],
      "metadata": {
        "id": "VgZ_nmsH5a3C"
      },
      "execution_count": 7,
      "outputs": []
    },
    {
      "cell_type": "code",
      "source": [
        "tree = DecisionTreeClassifier(random_state=42)\n",
        "tree.fit(X_train, y_train)\n",
        "tree_pred = tree.predict(X_test)\n",
        "\n",
        "tree_cm = confusion_matrix(y_test, tree_pred)\n",
        "cmd = ConfusionMatrixDisplay(tree_cm)\n",
        "cmd.plot(cmap='Blues')\n",
        "plt.title('Confusion Matrix for Decision Tree(Without Scaling)')\n",
        "plt.show()\n",
        "\n",
        "print('Classification Report for Decision Tree(Without Scaling):\\n')\n",
        "print(classification_report(y_test, tree_pred, target_names=target_names))"
      ],
      "metadata": {
        "id": "r9nri0rW5OKn",
        "colab": {
          "base_uri": "https://localhost:8080/",
          "height": 663
        },
        "outputId": "475c0cb2-609d-410e-b14c-5e98216447cb"
      },
      "execution_count": 8,
      "outputs": [
        {
          "output_type": "display_data",
          "data": {
            "text/plain": [
              "<Figure size 640x480 with 2 Axes>"
            ],
            "image/png": "[encoded data removed]"
          },
          "metadata": {}
        },
        {
          "output_type": "stream",
          "name": "stdout",
          "text": [
            "Classification Report for Decision Tree(Without Scaling):\n",
            "\n",
            "              precision    recall  f1-score   support\n",
            "\n",
            "Non-Diabetes       0.97      0.97      0.97     27424\n",
            "    Diabetes       0.61      0.62      0.62      1827\n",
            "\n",
            "    accuracy                           0.95     29251\n",
            "   macro avg       0.79      0.80      0.80     29251\n",
            "weighted avg       0.95      0.95      0.95     29251\n",
            "\n"
          ]
        }
      ]
    },
    {
      "cell_type": "code",
      "source": [
        "scaler = StandardScaler().fit(X_train)\n",
        "X_train_std = scaler.transform(X_train)\n",
        "X_test_std = scaler.transform(X_test)"
      ],
      "metadata": {
        "id": "cfjIbbRSX1KO"
      },
      "execution_count": 9,
      "outputs": []
    },
    {
      "cell_type": "code",
      "source": [
        "tree = DecisionTreeClassifier(random_state=42)\n",
        "tree.fit(X_train_std, y_train)\n",
        "tree_pred = tree.predict(X_test_std)\n",
        "\n",
        "tree_cm = confusion_matrix(y_test, tree_pred)\n",
        "cmd = ConfusionMatrixDisplay(tree_cm)\n",
        "cmd.plot(cmap='Blues')\n",
        "plt.title('Confusion Matrix for Decision Tree(With Scaling)')\n",
        "plt.show()\n",
        "\n",
        "print('Classification Report for Decision Tree(With Scaling):\\n')\n",
        "print(classification_report(y_test, tree_pred, target_names=target_names))"
      ],
      "metadata": {
        "id": "wO-DygvRYT0U",
        "colab": {
          "base_uri": "https://localhost:8080/",
          "height": 663
        },
        "outputId": "3ec82883-942b-4e8a-b544-9ecfeb2073b4"
      },
      "execution_count": 10,
      "outputs": [
        {
          "output_type": "display_data",
          "data": {
            "text/plain": [
              "<Figure size 640x480 with 2 Axes>"
            ],
            "image/png": "[encoded data removed]"
          },
          "metadata": {}
        },
        {
          "output_type": "stream",
          "name": "stdout",
          "text": [
            "Classification Report for Decision Tree(With Scaling):\n",
            "\n",
            "              precision    recall  f1-score   support\n",
            "\n",
            "Non-Diabetes       0.97      0.97      0.97     27424\n",
            "    Diabetes       0.61      0.62      0.62      1827\n",
            "\n",
            "    accuracy                           0.95     29251\n",
            "   macro avg       0.79      0.80      0.80     29251\n",
            "weighted avg       0.95      0.95      0.95     29251\n",
            "\n"
          ]
        }
      ]
    },
    {
      "cell_type": "markdown",
      "source": [
        "**Model Training**\n",
        "2- Support Vector Machine"
      ],
      "metadata": {
        "id": "HpPh_SunVRqu"
      }
    },
    {
      "cell_type": "code",
      "source": [
        "svm = SVC(kernel='linear', random_state=42)\n",
        "svm.fit(X_train, y_train)\n",
        "\n",
        "svm_pred = svm.predict(X_test)\n",
        "\n",
        "svm_cm = confusion_matrix(y_test, svm_pred)\n",
        "cmd = ConfusionMatrixDisplay(confusion_matrix=svm_cm)\n",
        "cmd.plot(cmap='Blues')\n",
        "plt.title('Confusion Matrix for SVM (Without Scaling)')\n",
        "plt.show()\n",
        "\n",
        "print('Classification Report for SVM (Without Scaling):\\n')\n",
        "print(classification_report(y_test, svm_pred))"
      ],
      "metadata": {
        "id": "o1qrgWY96aOa"
      },
      "execution_count": null,
      "outputs": []
    },
    {
      "cell_type": "code",
      "source": [
        "svm = SVC(kernel='linear', random_state=42)\n",
        "svm.fit(X_train_std, y_train)\n",
        "\n",
        "svm_pred = svm.predict(X_test_std)\n",
        "\n",
        "svm_cm = confusion_matrix(y_test, svm_pred)\n",
        "cmd = ConfusionMatrixDisplay(confusion_matrix=svm_cm)\n",
        "cmd.plot(cmap='Blues')\n",
        "plt.title('Confusion Matrix for SVM (With Scaling)')\n",
        "plt.show()\n",
        "\n",
        "print('Classification Report for SVM (With Scaling):\\n')\n",
        "print(classification_report(y_test, svm_pred))"
      ],
      "metadata": {
        "id": "t2dQfGfPYjBG",
        "colab": {
          "base_uri": "https://localhost:8080/",
          "height": 663
        },
        "outputId": "b8313143-f975-43fc-cfb5-8902aa31a33e"
      },
      "execution_count": 11,
      "outputs": [
        {
          "output_type": "display_data",
          "data": {
            "text/plain": [
              "<Figure size 640x480 with 2 Axes>"
            ],
            "image/png": "[encoded data removed]"
          },
          "metadata": {}
        },
        {
          "output_type": "stream",
          "name": "stdout",
          "text": [
            "Classification Report for SVM (With Scaling):\n",
            "\n",
            "              precision    recall  f1-score   support\n",
            "\n",
            "           0       0.96      1.00      0.98     27424\n",
            "           1       0.90      0.37      0.53      1827\n",
            "\n",
            "    accuracy                           0.96     29251\n",
            "   macro avg       0.93      0.68      0.75     29251\n",
            "weighted avg       0.96      0.96      0.95     29251\n",
            "\n"
          ]
        }
      ]
    },
    {
      "cell_type": "code",
      "source": [
        "smote = SMOTE(random_state=42)\n",
        "X_train_res, y_train_res = smote.fit_resample(X_train, y_train)\n",
        "\n",
        "svm = SVC(kernel='rbf', random_state=42)\n",
        "svm.fit(X_train_res, y_train_res)\n",
        "\n",
        "\n",
        "svm_pred = svm.predict(X_test)\n",
        "\n",
        "svm_cm = confusion_matrix(y_test, svm_pred)\n",
        "cmd = ConfusionMatrixDisplay(confusion_matrix=svm_cm)\n",
        "cmd.plot(cmap='Blues')\n",
        "plt.title('Confusion Matrix for SVM (Resampled)')\n",
        "plt.show()\n",
        "\n",
        "print('Classification Report for SVM (Resampled):\\n')\n",
        "print(classification_report(y_test, svm_pred))"
      ],
      "metadata": {
        "colab": {
          "base_uri": "https://localhost:8080/",
          "height": 663
        },
        "id": "Tyil_sta6AoK",
        "outputId": "ed7fa26b-5541-41fc-f842-77b603fbe359"
      },
      "execution_count": 12,
      "outputs": [
        {
          "output_type": "display_data",
          "data": {
            "text/plain": [
              "<Figure size 640x480 with 2 Axes>"
            ],
            "image/png": "[encoded data removed]"
          },
          "metadata": {}
        },
        {
          "output_type": "stream",
          "name": "stdout",
          "text": [
            "Classification Report for SVM (Resampled):\n",
            "\n",
            "              precision    recall  f1-score   support\n",
            "\n",
            "           0       0.99      0.84      0.91     27424\n",
            "           1       0.27      0.91      0.42      1827\n",
            "\n",
            "    accuracy                           0.84     29251\n",
            "   macro avg       0.63      0.88      0.67     29251\n",
            "weighted avg       0.95      0.84      0.88     29251\n",
            "\n"
          ]
        }
      ]
    },
    {
      "cell_type": "code",
      "source": [],
      "metadata": {
        "id": "ZbeSKe0rBIoA"
      },
      "execution_count": null,
      "outputs": []
    }
  ]
}